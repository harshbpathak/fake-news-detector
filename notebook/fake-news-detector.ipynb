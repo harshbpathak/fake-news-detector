{
 "cells": [
  {
   "cell_type": "markdown",
   "id": "cd43e46d-95a8-4d03-bb22-011faa3fee7e",
   "metadata": {},
   "source": [
    "# Fake-news-detector \n",
    "This project aims to use traditional ML techniques to classify news articles as **real** or **fake**. We would use a labeled kaggle dataset and basic and elementary models like logical regression and Random forest.\n",
    "\n",
    "👨‍💻 Tech- Stack:\n",
    "- Python\n",
    "- Scikit-learn\n",
    "- Pandas\n",
    "- TF-IDF for vectorisation"
   ]
  },
  {
   "cell_type": "markdown",
   "id": "e94d5c58-faf8-4cf2-8231-0da2e11655e0",
   "metadata": {},
   "source": [
    "# Load all the dependencies "
   ]
  },
  {
   "cell_type": "code",
   "execution_count": 3,
   "id": "12cfea71-8013-4477-9d35-20a5a2087ac5",
   "metadata": {},
   "outputs": [],
   "source": [
    "\n",
    "import pandas as pd\n",
    "\n",
    "# Data splitting and transformation\n",
    "from sklearn.model_selection import train_test_split\n",
    "from sklearn.feature_extraction.text import TfidfVectorizer\n",
    "\n",
    "# Model\n",
    "from sklearn.linear_model import LogisticRegression\n",
    "from sklearn.ensemble import RandomForestClassifier\n",
    "\n",
    "from sklearn.metrics import accuracy_score, classification_report, confusion_matrix\n",
    "\n",
    "import seaborn as sns\n",
    "import matplotlib.pyplot as plt\n"
   ]
  },
  {
   "cell_type": "code",
   "execution_count": 1,
   "id": "613451e4-0fd9-41b2-9dd2-f8cea9e61f6e",
   "metadata": {},
   "outputs": [
    {
     "name": "stdout",
     "output_type": "stream",
     "text": [
      "True\n"
     ]
    }
   ],
   "source": [
    "import torch \n",
    "print(torch.cuda.is_available())\n"
   ]
  },
  {
   "cell_type": "markdown",
   "id": "a4c1cf64-8032-4fe2-8c54-ad80641723f6",
   "metadata": {},
   "source": [
    "# 1. loading the dataset "
   ]
  },
  {
   "cell_type": "code",
   "execution_count": 4,
   "id": "e0d49192-8a6c-46fb-8752-7f8148cf4e7f",
   "metadata": {},
   "outputs": [
    {
     "data": {
      "text/html": [
       "<div>\n",
       "<style scoped>\n",
       "    .dataframe tbody tr th:only-of-type {\n",
       "        vertical-align: middle;\n",
       "    }\n",
       "\n",
       "    .dataframe tbody tr th {\n",
       "        vertical-align: top;\n",
       "    }\n",
       "\n",
       "    .dataframe thead th {\n",
       "        text-align: right;\n",
       "    }\n",
       "</style>\n",
       "<table border=\"1\" class=\"dataframe\">\n",
       "  <thead>\n",
       "    <tr style=\"text-align: right;\">\n",
       "      <th></th>\n",
       "      <th>text</th>\n",
       "      <th>label</th>\n",
       "    </tr>\n",
       "  </thead>\n",
       "  <tbody>\n",
       "    <tr>\n",
       "      <th>0</th>\n",
       "      <td>BREAKING: GOP Chairman Grassley Has Had Enoug...</td>\n",
       "      <td>0</td>\n",
       "    </tr>\n",
       "    <tr>\n",
       "      <th>1</th>\n",
       "      <td>Failed GOP Candidates Remembered In Hilarious...</td>\n",
       "      <td>0</td>\n",
       "    </tr>\n",
       "    <tr>\n",
       "      <th>2</th>\n",
       "      <td>Mike Pence’s New DC Neighbors Are HILARIOUSLY...</td>\n",
       "      <td>0</td>\n",
       "    </tr>\n",
       "    <tr>\n",
       "      <th>3</th>\n",
       "      <td>California AG pledges to defend birth control ...</td>\n",
       "      <td>1</td>\n",
       "    </tr>\n",
       "    <tr>\n",
       "      <th>4</th>\n",
       "      <td>AZ RANCHERS Living On US-Mexico Border Destroy...</td>\n",
       "      <td>0</td>\n",
       "    </tr>\n",
       "  </tbody>\n",
       "</table>\n",
       "</div>"
      ],
      "text/plain": [
       "                                                text  label\n",
       "0   BREAKING: GOP Chairman Grassley Has Had Enoug...      0\n",
       "1   Failed GOP Candidates Remembered In Hilarious...      0\n",
       "2   Mike Pence’s New DC Neighbors Are HILARIOUSLY...      0\n",
       "3  California AG pledges to defend birth control ...      1\n",
       "4  AZ RANCHERS Living On US-Mexico Border Destroy...      0"
      ]
     },
     "execution_count": 4,
     "metadata": {},
     "output_type": "execute_result"
    }
   ],
   "source": [
    "#load datasets\n",
    "true_df=pd.read_csv(\"../datasets/True.csv\")\n",
    "fake_df=pd.read_csv(\"../datasets/Fake.csv\")\n",
    "\n",
    "#Add labels \n",
    "true_df[\"label\"]=1\n",
    "fake_df[\"label\"]=0\n",
    "\n",
    "# Combine the datasets\n",
    "df = pd.concat([true_df, fake_df], ignore_index=True)\n",
    "df['text'] =df['title']+\".\"+df[\"text\"]\n",
    "df=df[['text','label']]\n",
    "# Shuffling the dataset\n",
    "df = df.sample(frac=1, random_state=42).reset_index(drop=True)\n",
    "\n",
    "# Preview\n",
    "df.head()\n"
   ]
  },
  {
   "cell_type": "markdown",
   "id": "f61e652f-453a-4cea-9519-a8fd1a899e4a",
   "metadata": {},
   "source": [
    "# 2. Basic Exploratory Data Analysis\n",
    "We'll:\n",
    "\n",
    "- Check dataset shape and balance\n",
    "\n",
    "- Visualize real vs fake distribution\n",
    "\n",
    "- Look at example headlines/content\n",
    "\n"
   ]
  },
  {
   "cell_type": "code",
   "execution_count": 5,
   "id": "bdc9fd0f-7042-4d8a-83da-6068b537e944",
   "metadata": {},
   "outputs": [
    {
     "name": "stdout",
     "output_type": "stream",
     "text": [
      "Dataset shape: (44898, 2)\n",
      "\n",
      "Missing values:\n",
      " text     0\n",
      "label    0\n",
      "dtype: int64\n"
     ]
    },
    {
     "data": {
      "image/png": "[encoded data removed]",
      "text/plain": [
       "<Figure size 640x480 with 1 Axes>"
      ]
     },
     "metadata": {},
     "output_type": "display_data"
    },
    {
     "name": "stdout",
     "output_type": "stream",
     "text": [
      "\n",
      "Example Fake News:\n",
      "  BREAKING: GOP Chairman Grassley Has Had Enough, DEMANDS Trump Jr. Testimony.Donald Trump s White House is in chaos, and they are trying to cover it up. Their Russia problems are mounting by the hour, and they refuse to acknowledge that there are problems surrounding all of this. To them, it s  fake news,  or a  hoax.  However, the facts bear things out differently, and it seems that there are now cracks in the Congressional public leadership.Chuck Grassley (R-Iowa), who heads the Senate Judiciary Committee, is fed up. He is now demanding that Donald Trump, Jr. and former 2016 Trump Campaign Manager Paul Manafort testify before his committee regarding the now infamous shady meeting between Donald Trump and the shady Russian lawyer who promised dirt on 2016 Democratic Presidential nominee Hillary Clinton. In fact, this information is due, well, NOW. This demand sends a few signals to team Trump   most notably that they should not fire Special Counsel Robert Mueller under any circumstances, despite the fact that it seems that this seems to be what Trump s White House is laying the groundwork, so to speak, to do as we speak.Here is the tweet regarding Grassley s warning:Also, anyone who thinks that Senator Grassley and the rest of the Senate are not serious about this only needs to look at the warning that has already been given: Trump Jr. and Manafort will either follow orders, or be served with subpoenas that force them to comply. If they refuse, they will be held in contempt of Congress, which carries with it serious jail time.Even the cruel, craven creatures within the GOP are sick of Donald Trump s corruption and his scandal-ridden White House. They are angry that he staged a hostile takeover of their party, first with birtherism and giving them a permanently racist label all while decimating all efforts that were made to pretend the Republican Party isn t a hotbed of racism, and while turning their worlds upside down, and with it, the nation. It seems that old-timers like Grassley, who are clearly sick of Trump s bullshit, just might be the ones who could save the republic. All they need is a bit of courage.Featured image via Win McNamee/Getty Images\n",
      "\n",
      "Example Real News:\n",
      " California AG pledges to defend birth control insurance coverage.SAN FRANCISCO (Reuters) - California Attorney General Xavier Becerra said on Friday he was “prepared to take whatever action it takes” to defend the Obamacare mandate that health insurers provide birth control, now that the Trump administration has moved to circumvent it. The administration’s new contraception exemptions “are another example of the Trump administration trampling on people’s rights, but in this case only women,” Becerra told Reuters.  Becerra and other Democratic attorneys general have filed courtroom challenges to other Trump administration policies involving healthcare, immigration and the environment.  \n"
     ]
    }
   ],
   "source": [
    "# Checking overall shape and missing values\n",
    "print(\"Dataset shape:\", df.shape)\n",
    "print(\"\\nMissing values:\\n\", df.isnull().sum())\n",
    "\n",
    "# Class distribution\n",
    "sns.countplot(x='label', data=df)\n",
    "plt.title(\"Real vs Fake News Distribution\")\n",
    "plt.xticks([0, 1], ['Fake', 'Real'])\n",
    "plt.xlabel(\"News Type\")\n",
    "plt.ylabel(\"Count\")\n",
    "plt.show()\n",
    "\n",
    "print(\"\\nExample Fake News:\\n\", df[df.label == 0][\"text\"].iloc[0])\n",
    "print(\"\\nExample Real News:\\n\", df[df.label == 1][\"text\"].iloc[0])\n"
   ]
  },
  {
   "cell_type": "markdown",
   "id": "157493e2-6100-4726-b117-8b3552d0541b",
   "metadata": {},
   "source": [
    "# 3.Preprocessing and Test-train split\n",
    "- Drop nulls\n",
    "- Encode target labels\n",
    "- split into test/train\n"
   ]
  },
  {
   "cell_type": "code",
   "execution_count": 6,
   "id": "cb867e08-3226-48b4-83d0-3d9a115cfb68",
   "metadata": {},
   "outputs": [
    {
     "name": "stdout",
     "output_type": "stream",
     "text": [
      "[0 1]\n",
      "0\n"
     ]
    }
   ],
   "source": [
    "from sklearn.model_selection import train_test_split\n",
    "from sklearn.feature_extraction.text import TfidfVectorizer\n",
    "\n",
    "df.dropna(subset=['text','label'],inplace=True)\n",
    "X = df['text']\n",
    "y=df['label']\n",
    "print(df['label'].unique())\n",
    "print(y.isnull().sum())\n",
    "\n",
    "X_train, X_test, y_train, y_test = train_test_split(X, y, test_size=0.2, random_state=42)\n"
   ]
  },
  {
   "cell_type": "markdown",
   "id": "35bcc874-493b-45c2-8612-e2f3d9b91532",
   "metadata": {},
   "source": [
    "# 4. TF-IDF Vectoristation\n"
   ]
  },
  {
   "cell_type": "code",
   "execution_count": 7,
   "id": "eae55c58-177e-4046-9610-1c820dbdd907",
   "metadata": {},
   "outputs": [],
   "source": [
    "vectorizer = TfidfVectorizer(stop_words='english', max_df=0.7)\n",
    "X_train_tfidf = vectorizer.fit_transform(X_train)\n",
    "X_test_tfidf = vectorizer.transform(X_test)\n"
   ]
  },
  {
   "cell_type": "markdown",
   "id": "e345aa37-01fc-4628-ad2d-ba946e9b87a1",
   "metadata": {},
   "source": [
    "# 5. Train and Evaluate ML Models\n"
   ]
  },
  {
   "cell_type": "code",
   "execution_count": 8,
   "id": "16e88bfa-00f8-4797-88d2-f3ef5048954b",
   "metadata": {
    "scrolled": true
   },
   "outputs": [
    {
     "name": "stdout",
     "output_type": "stream",
     "text": [
      "Logistic Regression Report:\n",
      "              precision    recall  f1-score   support\n",
      "\n",
      "           0       0.99      0.98      0.99      4669\n",
      "           1       0.98      0.99      0.99      4311\n",
      "\n",
      "    accuracy                           0.99      8980\n",
      "   macro avg       0.99      0.99      0.99      8980\n",
      "weighted avg       0.99      0.99      0.99      8980\n",
      "\n",
      "Random Forest Report:\n",
      "              precision    recall  f1-score   support\n",
      "\n",
      "           0       0.99      0.99      0.99      4669\n",
      "           1       0.99      0.99      0.99      4311\n",
      "\n",
      "    accuracy                           0.99      8980\n",
      "   macro avg       0.99      0.99      0.99      8980\n",
      "weighted avg       0.99      0.99      0.99      8980\n",
      "\n"
     ]
    }
   ],
   "source": [
    "from sklearn.linear_model import LogisticRegression\n",
    "from sklearn.ensemble import RandomForestClassifier\n",
    "from sklearn.metrics import classification_report\n",
    "\n",
    "# Logistic Regression\n",
    "lr = LogisticRegression()\n",
    "lr.fit(X_train_tfidf, y_train)\n",
    "y_pred_lr = lr.predict(X_test_tfidf)\n",
    "print(\"Logistic Regression Report:\")\n",
    "print(classification_report(y_test, y_pred_lr))\n",
    "\n",
    "# Random Forest\n",
    "rf = RandomForestClassifier()\n",
    "rf.fit(X_train_tfidf, y_train)\n",
    "y_pred_rf = rf.predict(X_test_tfidf)\n",
    "print(\"Random Forest Report:\")\n",
    "print(classification_report(y_test, y_pred_rf))\n",
    "\n"
   ]
  },
  {
   "cell_type": "markdown",
   "id": "2fb513de-431c-4ccd-9842-f9b6d85b42eb",
   "metadata": {},
   "source": [
    "# 6. Lets predict and check confidence "
   ]
  },
  {
   "cell_type": "code",
   "execution_count": 47,
   "id": "91f5b1f9-1481-47fc-8647-3bc6a0ccccb7",
   "metadata": {},
   "outputs": [
    {
     "name": "stdout",
     "output_type": "stream",
     "text": [
      "Enter the news or headline:  The government has announced a secret plan to replace all currency with digital implants starting next month.\n"
     ]
    },
    {
     "name": "stdout",
     "output_type": "stream",
     "text": [
      "\n",
      "Logistic Regression says: Fake news with confidence 0.56\n",
      "Random Forest says: Fake news with confidence 0.64\n"
     ]
    }
   ],
   "source": [
    "news_text = input(\"Enter the news or headline: \")\n",
    "\n",
    "text_tfidf = vectorizer.transform([news_text])  \n",
    "\n",
    "# Logistic Regression prediction and confidence\n",
    "lr_pred = lr.predict(text_tfidf)[0]\n",
    "lr_conf = lr.predict_proba(text_tfidf)[0][lr_pred]\n",
    "\n",
    "# Random Forest prediction and confidence\n",
    "rf_pred = rf.predict(text_tfidf)[0]\n",
    "rf_conf = rf.predict_proba(text_tfidf)[0][rf_pred]\n",
    "\n",
    "print(f\"\\nLogistic Regression says: {'Fake' if lr_pred == 0 else 'Real'} news with confidence {lr_conf:.2f}\")\n",
    "print(f\"Random Forest says: {'Fake' if rf_pred == 0 else 'Real'} news with confidence {rf_conf:.2f}\")\n"
   ]
  },
  {
   "cell_type": "code",
   "execution_count": 68,
   "id": "587e2cba-32a4-4e96-8ab9-eda9d0f2f6a2",
   "metadata": {},
   "outputs": [
    {
     "name": "stdout",
     "output_type": "stream",
     "text": [
      "Enter the news or headline:   Colombia Strikes a Peace Deal. If at first you don’t succeed, find another way to get the job done. Colombian President Juan Santos took this advice to heart. He first won election back in 2010 while promising to continue Colombia’s fifty-year-old fight against the Marxist guerilla group FARC. Once in office he changed his mind. Years of peace talks finally culminated with the announcement on August 25, 2016: the two sides had agreed on six negotiating points and a national referendum would be held to approve the deal. Santos’s predecessor, Álvaro Uribe, led critics who assailed the deal for its leniency toward the FARC. Polls predicted that the “yes” vote would carry easily. But Colombians voted down the deal. Santos, who was awarded the 2016 Nobel Peace Prize for negotiating the agreement, proceeded to hammer out a new deal. Unveiled on November 24, 2016, it toughened some of the provisions on FARC members. But the biggest change was dropping the requirement for a national referendum. With no need for the public to vote, the Colombian Congress approved the deal a week later. Colombians now hope the deal works; the conflict with the FARC has killed nearly a quarter million people.\n"
     ]
    },
    {
     "name": "stdout",
     "output_type": "stream",
     "text": [
      "\n",
      "Logistic Regression says: Real news with confidence 0.78\n",
      "Random Forest says: Real news with confidence 0.60\n"
     ]
    }
   ],
   "source": [
    "news_text = input(\"Enter the news or headline: \")\n",
    "\n",
    "\n",
    "text_tfidf = vectorizer.transform([news_text])  \n",
    "\n",
    "# Logistic Regression prediction and confidence\n",
    "lr_pred = lr.predict(text_tfidf)[0]\n",
    "lr_conf = lr.predict_proba(text_tfidf)[0][lr_pred]\n",
    "\n",
    "# Random Forest prediction and confidence\n",
    "rf_pred = rf.predict(text_tfidf)[0]\n",
    "rf_conf = rf.predict_proba(text_tfidf)[0][rf_pred]\n",
    "\n",
    "\n",
    "print(f\"\\nLogistic Regression says: {'Fake' if lr_pred == 0 else 'Real'} news with confidence {lr_conf:.2f}\")\n",
    "print(f\"Random Forest says: {'Fake' if rf_pred == 0 else 'Real'} news with confidence {rf_conf:.2f}\")\n"
   ]
  },
  {
   "cell_type": "code",
   "execution_count": 50,
   "id": "180ca47a-725f-43c8-a152-6855ad423665",
   "metadata": {},
   "outputs": [
    {
     "name": "stdout",
     "output_type": "stream",
     "text": [
      "Enter the news or headline:  The U.S.-China Trade War Continues.\n"
     ]
    },
    {
     "name": "stdout",
     "output_type": "stream",
     "text": [
      "\n",
      "Logistic Regression says: Real news with confidence 0.63\n",
      "Random Forest says: Fake news with confidence 0.69\n"
     ]
    }
   ],
   "source": [
    "news_text = input(\"Enter the news or headline: \")\n",
    "\n",
    "\n",
    "text_tfidf = vectorizer.transform([news_text])  \n",
    "\n",
    "# Logistic Regression prediction and confidence\n",
    "lr_pred = lr.predict(text_tfidf)[0]\n",
    "lr_conf = lr.predict_proba(text_tfidf)[0][lr_pred]\n",
    "\n",
    "# Random Forest prediction and confidence\n",
    "rf_pred = rf.predict(text_tfidf)[0]\n",
    "rf_conf = rf.predict_proba(text_tfidf)[0][rf_pred]\n",
    "\n",
    "\n",
    "print(f\"\\nLogistic Regression says: {'Fake' if lr_pred == 0 else 'Real'} news with confidence {lr_conf:.2f}\")\n",
    "print(f\"Random Forest says: {'Fake' if rf_pred == 0 else 'Real'} news with confidence {rf_conf:.2f}\")\n"
   ]
  },
  {
   "cell_type": "code",
   "execution_count": 51,
   "id": "6b043137-e2a5-4315-9d70-5b53218224ad",
   "metadata": {},
   "outputs": [
    {
     "name": "stdout",
     "output_type": "stream",
     "text": [
      "Enter the news or headline:  The U.S.-China Trade War Continues. Back in March 2018, President Donald Trump tweeted that “trade wars are good and easy to win.” That hasn’t been the case so far with his trade war with China. In February, Trump delayed imposing a new round of tariffs on Chinese goods in a bid to give negotiators time to strike a deal. In May, he concluded that the talks hadn’t progressed and imposed a new round of tariffs. In June, Trump and Chinese President Xi Jinping agreed at the G-20 summit to push ahead with trade talks. In August, however, Trump announced he would place tariffs on $300 billion worth of Chinese goods effective September 1. Twelve days later, he partially reversed course, saying he would delay half those tariffs until December 15. China wasn’t mollified; on August 23 it announced tariffs on $75 billion worth of U.S. goods. Negotiators continued to meet, and on October 11 they reached tentative agreement on a “Phase 1” deal. It took another two months, though, before the details were worked out. Both sides claimed victory. However, the agreement failed to settle the major differences between the two economic superpowers, suggesting that 2020 could be turbulent on the trade front.\n"
     ]
    },
    {
     "name": "stdout",
     "output_type": "stream",
     "text": [
      "\n",
      "Logistic Regression says: Real news with confidence 0.77\n",
      "Random Forest says: Real news with confidence 0.61\n"
     ]
    }
   ],
   "source": [
    "news_text = input(\"Enter the news or headline: \")\n",
    "\n",
    "\n",
    "text_tfidf = vectorizer.transform([news_text])  \n",
    "\n",
    "# Logistic Regression prediction and confidence\n",
    "lr_pred = lr.predict(text_tfidf)[0]\n",
    "lr_conf = lr.predict_proba(text_tfidf)[0][lr_pred]\n",
    "\n",
    "# Random Forest prediction and confidence\n",
    "rf_pred = rf.predict(text_tfidf)[0]\n",
    "rf_conf = rf.predict_proba(text_tfidf)[0][rf_pred]\n",
    "\n",
    "\n",
    "print(f\"\\nLogistic Regression says: {'Fake' if lr_pred == 0 else 'Real'} news with confidence {lr_conf:.2f}\")\n",
    "print(f\"Random Forest says: {'Fake' if rf_pred == 0 else 'Real'} news with confidence {rf_conf:.2f}\")\n"
   ]
  },
  {
   "cell_type": "markdown",
   "id": "42b43fbb-4943-4cdd-ad1c-37a88646e51c",
   "metadata": {},
   "source": [
    "# lets test our model with real world data using newsAPI"
   ]
  },
  {
   "cell_type": "code",
   "execution_count": 71,
   "id": "a55df0de-b26a-4fde-ac47-6a0c109095f8",
   "metadata": {},
   "outputs": [
    {
     "name": "stdout",
     "output_type": "stream",
     "text": [
      "\n",
      "📌 Source: BBC News\n",
      "📰 Text: India recovers data from crashed Air India flight recorders. The data from the recorders can be used to reconstruct the flight's final moments and determine the cause of the incident....\n",
      "✅ Logistic Regression: Fake (Confidence: 0.61)\n",
      "🌲 Random Forest      : Fake (Confidence: 0.87)\n",
      "----------------------------------------------------------------------\n",
      "\n",
      "📌 Source: BBC News\n",
      "📰 Text: British passenger in seat 11A survives India plane crash, reports say. The London-bound Air India plane carrying 242 people crashed shortly after take-off in western India....\n",
      "✅ Logistic Regression: Real (Confidence: 0.57)\n",
      "🌲 Random Forest      : Fake (Confidence: 0.51)\n",
      "----------------------------------------------------------------------\n",
      "\n",
      "📌 Source: BBC News\n",
      "📰 Text: Watch: Smoke billows from Ahmedabad crash site. 242 people were on board the Air India plane....\n",
      "✅ Logistic Regression: Fake (Confidence: 0.73)\n",
      "🌲 Random Forest      : Fake (Confidence: 0.88)\n",
      "----------------------------------------------------------------------\n",
      "\n",
      "📌 Source: BBC News\n",
      "📰 Text: Air India plane crash death toll rises to 270. Dr Dhaval Gameti said 270 bodies have been recovered from the site of Thursday's plane crash in Ahmedabad....\n",
      "✅ Logistic Regression: Real (Confidence: 0.56)\n",
      "🌲 Random Forest      : Fake (Confidence: 0.65)\n",
      "----------------------------------------------------------------------\n",
      "\n",
      "📌 Source: BBC News\n",
      "📰 Text: Mandhana stars as India inflict record loss on England. Smriti Mandhana scores a stunning century as India inflict England's heaviest T20 defeat by runs with a comprehensive 97-run triumph at Trent Br...\n",
      "✅ Logistic Regression: Fake (Confidence: 0.71)\n",
      "🌲 Random Forest      : Fake (Confidence: 0.92)\n",
      "----------------------------------------------------------------------\n"
     ]
    }
   ],
   "source": [
    "from newsapi import NewsApiClient\n",
    "\n",
    "# Initialize News API\n",
    "newsapi = NewsApiClient(api_key=\"74500dffffdd479287e00d1531422cad\")\n",
    "resp = newsapi.get_everything(q=\"india\", language=\"en\", page_size=5, sort_by=\"relevancy\")\n",
    "\n",
    "texts, sources = [], []\n",
    "lr_preds, lr_probs = [], []\n",
    "rf_preds, rf_probs = [], []\n",
    "\n",
    "for art in resp['articles']:\n",
    "    title = art.get('title', '')\n",
    "    desc = art.get('description') or ''\n",
    "    full_text = f\"{title}. {desc}\"\n",
    "    texts.append(full_text)\n",
    "    sources.append(art.get('source', {}).get('name'))\n",
    "\n",
    "    # TF-IDF vectorization\n",
    "    text_tfidf = vectorizer.transform([full_text])\n",
    "\n",
    "    # Logistic Regression prediction and confidence\n",
    "    lr_pred = lr.predict(text_tfidf)[0]\n",
    "    lr_conf = lr.predict_proba(text_tfidf)[0]\n",
    "\n",
    "    # Random Forest prediction and confidence\n",
    "    rf_pred = rf.predict(text_tfidf)[0]\n",
    "    rf_conf = rf.predict_proba(text_tfidf)[0]\n",
    "\n",
    "    lr_preds.append(lr_pred)\n",
    "    lr_probs.append(lr_conf)\n",
    "    rf_preds.append(rf_pred)\n",
    "    rf_probs.append(rf_conf)\n",
    "\n",
    "\n",
    "for src, txt, p_lr, pr_lr, p_rf, pr_rf in zip(sources, texts, lr_preds, lr_probs, rf_preds, rf_probs):\n",
    "    print(f\"\\n📌 Source: {src}\")\n",
    "    print(f\"📰 Text: {txt[:200]}...\")\n",
    "    print(f\"✅ Logistic Regression: {'Fake' if p_lr == 0 else 'Real'} (Confidence: {pr_lr[p_lr]:.2f})\")\n",
    "    print(f\"🌲 Random Forest      : {'Fake' if p_rf == 0 else 'Real'} (Confidence: {pr_rf[p_rf]:.2f})\")\n",
    "    print('-' * 70)\n"
   ]
  },
  {
   "cell_type": "markdown",
   "id": "2ad2ccb7-4c16-47c3-93ee-2119192b385d",
   "metadata": {},
   "source": [
    "Here we can observe the predictions made by both models on the latest news articles fetched from News API. The results are not very accurate, indicating that model needs additional data for better performance and we might need a better model to stand. It tested well on News of 2017 or before because the dataset on which it trained contains data as of 2017."
   ]
  },
  {
   "cell_type": "markdown",
   "id": "ead71c5e-0ccf-4fd4-8a3b-6c2f80ee8416",
   "metadata": {},
   "source": [
    "# Saving the models"
   ]
  },
  {
   "cell_type": "code",
   "execution_count": null,
   "id": "c2640716-d8df-4b7c-9b2a-7fef2b421e31",
   "metadata": {},
   "outputs": [],
   "source": [
    "joblib.dump(lr, '../models/logistic_model.pkl')\n",
    "joblib.dump(rf, '../models/random_forest_model.pkl')\n",
    "joblib.dump(vectorizer,'../models/tfidf_vectorizer.pkl')"
   ]
  },
  {
   "cell_type": "markdown",
   "id": "30d929ba-26c8-414b-8d6f-5312927b8f72",
   "metadata": {},
   "source": [
    "# Loading the model again"
   ]
  },
  {
   "cell_type": "code",
   "execution_count": 12,
   "id": "abc70c2a-d2b0-4c20-9658-1677f680d30d",
   "metadata": {
    "scrolled": true
   },
   "outputs": [],
   "source": [
    "import joblib\n",
    "\n",
    "lr=joblib.load('../models/logistic_model.pkl')\n",
    "rf=joblib.load('../models/random_forest_model.pkl')\n",
    "vectorizer=joblib.load('../models/tfidf_vectorizer.pkl')\n"
   ]
  },
  {
   "cell_type": "markdown",
   "id": "8b5ceef5-28de-4daf-83eb-34d142794cdb",
   "metadata": {},
   "source": [
    "# Checking on top headlines "
   ]
  },
  {
   "cell_type": "code",
   "execution_count": 24,
   "id": "8ee78cf7-9e03-4202-b741-b6e2353fbf93",
   "metadata": {},
   "outputs": [
    {
     "name": "stdout",
     "output_type": "stream",
     "text": [
      "\n",
      "📌 Source: Financial Times\n",
      "📰 Text: Google to agree cloud discount as US government squeezes Big Tech - Financial Times. Amazon and Microsoft are also under pressure to cut prices after Oracle struck a deal to reduce costs...\n",
      "✅ Logistic Regression: Fake (Confidence: 0.59)\n",
      "🌲 Random Forest      : Fake (Confidence: 0.55)\n",
      "----------------------------------------------------------------------\n",
      "\n",
      "📌 Source: Financial Times\n",
      "📰 Text: Commodity firms poised for $300mn windfall from US copper tariff trade - Financial Times. Trafigura, Mercuria, Glencore and IXM set for bumper profits from metal shipped into America ahead of new levi...\n",
      "✅ Logistic Regression: Fake (Confidence: 0.60)\n",
      "🌲 Random Forest      : Fake (Confidence: 0.59)\n",
      "----------------------------------------------------------------------\n",
      "\n",
      "📌 Source: The Washington Post\n",
      "📰 Text: Why Powell is ignoring Trump’s push to quickly slash interest rates - The Washington Post. Federal Reserve Chair Jerome H. Powell is resisting President Donald Trump’s calls for lower interest rates, ...\n",
      "✅ Logistic Regression: Real (Confidence: 0.69)\n",
      "🌲 Random Forest      : Real (Confidence: 0.55)\n",
      "----------------------------------------------------------------------\n",
      "\n",
      "📌 Source: NBC News\n",
      "📰 Text: Not Every Amazon Prime Day Deal Is Worth It — We’ve Found 217+ That Are - NBC News. Prime Day ends tonight and deals are just as good today as they’ve been so far — in some cases, we’ve seen prices dr...\n",
      "✅ Logistic Regression: Fake (Confidence: 0.88)\n",
      "🌲 Random Forest      : Fake (Confidence: 0.72)\n",
      "----------------------------------------------------------------------\n"
     ]
    }
   ],
   "source": [
    "from newsapi import NewsApiClient\n",
    "\n",
    "# Initialize News API\n",
    "newsapi = NewsApiClient(api_key=\"74500dffffdd479287e00d1531422cad\")\n",
    "resp = newsapi.get_top_headlines(category=\"business\",country='us',language=\"en\", page_size=5)\n",
    "\n",
    "texts, sources = [], []\n",
    "lr_preds, lr_probs = [], []\n",
    "rf_preds, rf_probs = [], []\n",
    "\n",
    "\n",
    "for art in resp['articles']:\n",
    "    title = art.get('title', '')\n",
    "    desc = art.get('description') or ''\n",
    "    full_text = f\"{title}. {desc}\"\n",
    "    texts.append(full_text)\n",
    "    sources.append(art.get('source', {}).get('name'))\n",
    "\n",
    "    # TF-IDF vectorization\n",
    "    text_tfidf = vectorizer.transform([full_text])\n",
    "\n",
    "    # Logistic Regression prediction and confidence\n",
    "    lr_pred = lr.predict(text_tfidf)[0]\n",
    "    lr_conf = lr.predict_proba(text_tfidf)[0]\n",
    "\n",
    "    # Random Forest prediction and confidence\n",
    "    rf_pred = rf.predict(text_tfidf)[0]\n",
    "    rf_conf = rf.predict_proba(text_tfidf)[0]\n",
    "\n",
    "    lr_preds.append(lr_pred)\n",
    "    lr_probs.append(lr_conf)\n",
    "    rf_preds.append(rf_pred)\n",
    "    rf_probs.append(rf_conf)\n",
    "\n",
    "\n",
    "for src, txt, p_lr, pr_lr, p_rf, pr_rf in zip(sources, texts, lr_preds, lr_probs, rf_preds, rf_probs):\n",
    "    print(f\"\\n📌 Source: {src}\")\n",
    "    print(f\"📰 Text: {txt[:200]}...\")\n",
    "    print(f\"✅ Logistic Regression: {'Fake' if p_lr == 0 else 'Real'} (Confidence: {pr_lr[p_lr]:.2f})\")\n",
    "    print(f\"🌲 Random Forest      : {'Fake' if p_rf == 0 else 'Real'} (Confidence: {pr_rf[p_rf]:.2f})\")\n",
    "    print('-' * 70)\n"
   ]
  },
  {
   "cell_type": "code",
   "execution_count": null,
   "id": "b0305fef-5727-4813-a978-d90289ad6098",
   "metadata": {},
   "outputs": [],
   "source": []
  }
 ],
 "metadata": {
  "kernelspec": {
   "display_name": "Python 3 (ipykernel)",
   "language": "python",
   "name": "python3"
  }
 },
 "nbformat": 4,
 "nbformat_minor": 5
}
